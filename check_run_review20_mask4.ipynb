{
 "cells": [
  {
   "cell_type": "code",
   "execution_count": 2,
   "metadata": {},
   "outputs": [],
   "source": [
    "def is_distributed():\n",
    "    \"\"\"\n",
    "    Returns True if we are in distributed mode.\n",
    "    \"\"\"\n",
    "    return TORCH_AVAILABLE and dist.is_available() and dist.is_initialized()"
   ]
  },
  {
   "cell_type": "code",
   "execution_count": 3,
   "metadata": {},
   "outputs": [],
   "source": [
    "from run_train_test_copy import TrainLoop_fusion_rec as TrainLoop_fusion_rec"
   ]
  },
  {
   "cell_type": "code",
   "execution_count": null,
   "metadata": {},
   "outputs": [
    {
     "name": "stdout",
     "output_type": "stream",
     "text": [
      "{'max_c_length': 256, 'max_r_length': 30, 'batch_size': 32, 'max_count': 5, 'use_cuda': True, 'load_dict': None, 'learningrate': 0.001, 'optimizer': 'adam', 'momentum': 0, 'is_finetune': False, 'embedding_type': 'random', 'epoch': 30, 'gpu': '0,1', 'gradient_clip': 0.1, 'embedding_size': 300, 'n_heads': 2, 'n_layers': 2, 'ffn_size': 300, 'dropout': 0.1, 'attention_dropout': 0.0, 'relu_dropout': 0.1, 'learn_positional_embeddings': False, 'embeddings_scale': True, 'n_entity': 64368, 'n_relation': 214, 'n_concept': 29308, 'n_con_relation': 48, 'dim': 128, 'n_hop': 2, 'kge_weight': 1, 'l2_weight': 2.5e-06, 'n_memory': 32, 'item_update_mode': '0,1', 'using_all_hops': True, 'num_bases': 8}\n"
     ]
    },
    {
     "name": "stderr",
     "output_type": "stream",
     "text": [
      "8104it [00:21, 377.93it/s]\n"
     ]
    },
    {
     "name": "stdout",
     "output_type": "stream",
     "text": [
      "len(word2index): 29088\n",
      "len(new_edges): 321251\n",
      "len(keyword_sets) 28696\n",
      "len(movie_wordset) 2722\n",
      "29088\n"
     ]
    },
    {
     "name": "stderr",
     "output_type": "stream",
     "text": [
      "/home/luyu/anaconda3/envs/geom140/lib/python3.8/site-packages/torch/nn/_reduction.py:44: UserWarning: size_average and reduce args will be deprecated, please use reduction='none' instead.\n",
      "  warnings.warn(warning.format(ret))\n",
      "  0%|          | 0/1478 [00:00<?, ?it/s]"
     ]
    },
    {
     "name": "stdout",
     "output_type": "stream",
     "text": [
      "data with review\n"
     ]
    },
    {
     "name": "stderr",
     "output_type": "stream",
     "text": [
      "/home/luyu/luyu/KGSF_rev/run_train_test_copy.py:160: UserWarning: This overload of nonzero is deprecated:\n",
      "\tnonzero()\n",
      "Consider using one of the following signatures instead:\n",
      "\tnonzero(*, bool as_tuple) (Triggered internally at  /opt/conda/conda-bld/pytorch_1607370172916/work/torch/csrc/utils/python_arg_parser.cpp:882.)\n",
      "  seed_set = entity[b].nonzero().view(-1).tolist()\n",
      "/home/luyu/luyu/KGSF_rev/models/graph.py:137: UserWarning: Implicit dimension choice for softmax has been deprecated. Change the call to include dim=X as an argument.\n",
      "  attention = F.softmax(e)\n",
      "/home/luyu/anaconda3/envs/geom140/lib/python3.8/site-packages/torch/nn/functional.py:1639: UserWarning: nn.functional.sigmoid is deprecated. Use torch.sigmoid instead.\n",
      "  warnings.warn(\"nn.functional.sigmoid is deprecated. Use torch.sigmoid instead.\")\n",
      "  0%|          | 1/1478 [00:01<43:31,  1.77s/it]"
     ]
    },
    {
     "name": "stdout",
     "output_type": "stream",
     "text": [
      "info db loss is 117.987625\n"
     ]
    },
    {
     "name": "stderr",
     "output_type": "stream",
     "text": [
      "  3%|▎         | 51/1478 [00:35<16:09,  1.47it/s]"
     ]
    },
    {
     "name": "stdout",
     "output_type": "stream",
     "text": [
      "info db loss is 7.083605\n"
     ]
    },
    {
     "name": "stderr",
     "output_type": "stream",
     "text": [
      "  7%|▋         | 101/1478 [01:09<15:59,  1.43it/s]"
     ]
    },
    {
     "name": "stdout",
     "output_type": "stream",
     "text": [
      "info db loss is 1.473726\n"
     ]
    },
    {
     "name": "stderr",
     "output_type": "stream",
     "text": [
      " 10%|█         | 151/1478 [01:43<15:02,  1.47it/s]"
     ]
    },
    {
     "name": "stdout",
     "output_type": "stream",
     "text": [
      "info db loss is 1.462350\n"
     ]
    },
    {
     "name": "stderr",
     "output_type": "stream",
     "text": [
      " 14%|█▎        | 201/1478 [02:16<13:52,  1.53it/s]"
     ]
    },
    {
     "name": "stdout",
     "output_type": "stream",
     "text": [
      "info db loss is 1.287054\n"
     ]
    },
    {
     "name": "stderr",
     "output_type": "stream",
     "text": [
      " 17%|█▋        | 251/1478 [02:50<13:41,  1.49it/s]"
     ]
    },
    {
     "name": "stdout",
     "output_type": "stream",
     "text": [
      "info db loss is 1.166084\n"
     ]
    },
    {
     "name": "stderr",
     "output_type": "stream",
     "text": [
      " 20%|██        | 301/1478 [03:24<13:36,  1.44it/s]"
     ]
    },
    {
     "name": "stdout",
     "output_type": "stream",
     "text": [
      "info db loss is 1.128036\n"
     ]
    },
    {
     "name": "stderr",
     "output_type": "stream",
     "text": [
      " 24%|██▎       | 351/1478 [03:58<12:42,  1.48it/s]"
     ]
    },
    {
     "name": "stdout",
     "output_type": "stream",
     "text": [
      "info db loss is 1.143669\n"
     ]
    },
    {
     "name": "stderr",
     "output_type": "stream",
     "text": [
      " 27%|██▋       | 401/1478 [04:31<11:54,  1.51it/s]"
     ]
    },
    {
     "name": "stdout",
     "output_type": "stream",
     "text": [
      "info db loss is 1.092057\n"
     ]
    },
    {
     "name": "stderr",
     "output_type": "stream",
     "text": [
      " 31%|███       | 451/1478 [05:05<11:54,  1.44it/s]"
     ]
    },
    {
     "name": "stdout",
     "output_type": "stream",
     "text": [
      "info db loss is 1.170968\n"
     ]
    },
    {
     "name": "stderr",
     "output_type": "stream",
     "text": [
      " 34%|███▍      | 501/1478 [05:39<11:04,  1.47it/s]"
     ]
    },
    {
     "name": "stdout",
     "output_type": "stream",
     "text": [
      "info db loss is 1.197182\n"
     ]
    },
    {
     "name": "stderr",
     "output_type": "stream",
     "text": [
      " 37%|███▋      | 551/1478 [06:13<10:41,  1.44it/s]"
     ]
    },
    {
     "name": "stdout",
     "output_type": "stream",
     "text": [
      "info db loss is 1.243747\n"
     ]
    },
    {
     "name": "stderr",
     "output_type": "stream",
     "text": [
      " 41%|████      | 601/1478 [06:47<10:10,  1.44it/s]"
     ]
    },
    {
     "name": "stdout",
     "output_type": "stream",
     "text": [
      "info db loss is 1.239778\n"
     ]
    },
    {
     "name": "stderr",
     "output_type": "stream",
     "text": [
      " 44%|████▍     | 651/1478 [07:21<09:39,  1.43it/s]"
     ]
    },
    {
     "name": "stdout",
     "output_type": "stream",
     "text": [
      "info db loss is 1.131419\n"
     ]
    },
    {
     "name": "stderr",
     "output_type": "stream",
     "text": [
      " 47%|████▋     | 701/1478 [07:55<08:44,  1.48it/s]"
     ]
    },
    {
     "name": "stdout",
     "output_type": "stream",
     "text": [
      "info db loss is 1.155013\n"
     ]
    },
    {
     "name": "stderr",
     "output_type": "stream",
     "text": [
      " 51%|█████     | 751/1478 [08:28<08:15,  1.47it/s]"
     ]
    },
    {
     "name": "stdout",
     "output_type": "stream",
     "text": [
      "info db loss is 1.135644\n"
     ]
    },
    {
     "name": "stderr",
     "output_type": "stream",
     "text": [
      " 54%|█████▍    | 801/1478 [09:02<07:47,  1.45it/s]"
     ]
    },
    {
     "name": "stdout",
     "output_type": "stream",
     "text": [
      "info db loss is 1.183438\n"
     ]
    },
    {
     "name": "stderr",
     "output_type": "stream",
     "text": [
      " 58%|█████▊    | 851/1478 [09:36<07:04,  1.48it/s]"
     ]
    },
    {
     "name": "stdout",
     "output_type": "stream",
     "text": [
      "info db loss is 1.105837\n"
     ]
    },
    {
     "name": "stderr",
     "output_type": "stream",
     "text": [
      " 61%|██████    | 901/1478 [10:10<06:43,  1.43it/s]"
     ]
    },
    {
     "name": "stdout",
     "output_type": "stream",
     "text": [
      "info db loss is 1.165153\n"
     ]
    },
    {
     "name": "stderr",
     "output_type": "stream",
     "text": [
      " 64%|██████▍   | 951/1478 [10:44<05:59,  1.46it/s]"
     ]
    },
    {
     "name": "stdout",
     "output_type": "stream",
     "text": [
      "info db loss is 1.178099\n"
     ]
    },
    {
     "name": "stderr",
     "output_type": "stream",
     "text": [
      " 68%|██████▊   | 1001/1478 [11:17<05:24,  1.47it/s]"
     ]
    },
    {
     "name": "stdout",
     "output_type": "stream",
     "text": [
      "info db loss is 1.186194\n"
     ]
    },
    {
     "name": "stderr",
     "output_type": "stream",
     "text": [
      " 71%|███████   | 1051/1478 [11:51<04:51,  1.46it/s]"
     ]
    },
    {
     "name": "stdout",
     "output_type": "stream",
     "text": [
      "info db loss is 1.139098\n"
     ]
    },
    {
     "name": "stderr",
     "output_type": "stream",
     "text": [
      " 74%|███████▍  | 1101/1478 [12:25<04:12,  1.49it/s]"
     ]
    },
    {
     "name": "stdout",
     "output_type": "stream",
     "text": [
      "info db loss is 1.223336\n"
     ]
    },
    {
     "name": "stderr",
     "output_type": "stream",
     "text": [
      " 78%|███████▊  | 1151/1478 [12:58<03:43,  1.47it/s]"
     ]
    },
    {
     "name": "stdout",
     "output_type": "stream",
     "text": [
      "info db loss is 1.169636\n"
     ]
    },
    {
     "name": "stderr",
     "output_type": "stream",
     "text": [
      " 81%|████████▏ | 1201/1478 [13:33<03:10,  1.45it/s]"
     ]
    },
    {
     "name": "stdout",
     "output_type": "stream",
     "text": [
      "info db loss is 1.183244\n"
     ]
    },
    {
     "name": "stderr",
     "output_type": "stream",
     "text": [
      " 85%|████████▍ | 1251/1478 [14:06<02:32,  1.49it/s]"
     ]
    },
    {
     "name": "stdout",
     "output_type": "stream",
     "text": [
      "info db loss is 1.120610\n"
     ]
    },
    {
     "name": "stderr",
     "output_type": "stream",
     "text": [
      " 88%|████████▊ | 1301/1478 [14:40<01:57,  1.51it/s]"
     ]
    },
    {
     "name": "stdout",
     "output_type": "stream",
     "text": [
      "info db loss is 1.210395\n"
     ]
    },
    {
     "name": "stderr",
     "output_type": "stream",
     "text": [
      " 91%|█████████▏| 1351/1478 [15:14<01:27,  1.45it/s]"
     ]
    },
    {
     "name": "stdout",
     "output_type": "stream",
     "text": [
      "info db loss is 1.091726\n"
     ]
    },
    {
     "name": "stderr",
     "output_type": "stream",
     "text": [
      " 95%|█████████▍| 1401/1478 [15:48<00:52,  1.45it/s]"
     ]
    },
    {
     "name": "stdout",
     "output_type": "stream",
     "text": [
      "info db loss is 1.279324\n"
     ]
    },
    {
     "name": "stderr",
     "output_type": "stream",
     "text": [
      " 98%|█████████▊| 1451/1478 [16:22<00:18,  1.47it/s]"
     ]
    },
    {
     "name": "stdout",
     "output_type": "stream",
     "text": [
      "info db loss is 1.161062\n"
     ]
    },
    {
     "name": "stderr",
     "output_type": "stream",
     "text": [
      "100%|██████████| 1478/1478 [16:40<00:00,  1.48it/s]\n",
      "  0%|          | 0/1478 [00:00<?, ?it/s]"
     ]
    },
    {
     "name": "stdout",
     "output_type": "stream",
     "text": [
      "data with review\n"
     ]
    },
    {
     "name": "stderr",
     "output_type": "stream",
     "text": [
      "\r",
      "  0%|          | 1/1478 [00:00<16:58,  1.45it/s]"
     ]
    },
    {
     "name": "stdout",
     "output_type": "stream",
     "text": [
      "info db loss is 1.205771\n"
     ]
    },
    {
     "name": "stderr",
     "output_type": "stream",
     "text": [
      "  3%|▎         | 51/1478 [00:33<15:59,  1.49it/s]"
     ]
    },
    {
     "name": "stdout",
     "output_type": "stream",
     "text": [
      "info db loss is 1.102465\n"
     ]
    },
    {
     "name": "stderr",
     "output_type": "stream",
     "text": [
      "  7%|▋         | 101/1478 [01:07<15:34,  1.47it/s]"
     ]
    },
    {
     "name": "stdout",
     "output_type": "stream",
     "text": [
      "info db loss is 1.184406\n"
     ]
    },
    {
     "name": "stderr",
     "output_type": "stream",
     "text": [
      " 10%|█         | 151/1478 [01:41<15:21,  1.44it/s]"
     ]
    },
    {
     "name": "stdout",
     "output_type": "stream",
     "text": [
      "info db loss is 1.052689\n"
     ]
    },
    {
     "name": "stderr",
     "output_type": "stream",
     "text": [
      " 14%|█▎        | 201/1478 [02:14<13:58,  1.52it/s]"
     ]
    },
    {
     "name": "stdout",
     "output_type": "stream",
     "text": [
      "info db loss is 1.116739\n"
     ]
    },
    {
     "name": "stderr",
     "output_type": "stream",
     "text": [
      " 17%|█▋        | 251/1478 [02:48<14:07,  1.45it/s]"
     ]
    },
    {
     "name": "stdout",
     "output_type": "stream",
     "text": [
      "info db loss is 1.088998\n"
     ]
    },
    {
     "name": "stderr",
     "output_type": "stream",
     "text": [
      " 20%|██        | 301/1478 [03:22<13:07,  1.49it/s]"
     ]
    },
    {
     "name": "stdout",
     "output_type": "stream",
     "text": [
      "info db loss is 0.978293\n"
     ]
    },
    {
     "name": "stderr",
     "output_type": "stream",
     "text": [
      " 24%|██▎       | 351/1478 [03:55<12:40,  1.48it/s]"
     ]
    },
    {
     "name": "stdout",
     "output_type": "stream",
     "text": [
      "info db loss is 1.026974\n"
     ]
    },
    {
     "name": "stderr",
     "output_type": "stream",
     "text": [
      " 27%|██▋       | 401/1478 [04:29<12:27,  1.44it/s]"
     ]
    },
    {
     "name": "stdout",
     "output_type": "stream",
     "text": [
      "info db loss is 1.040228\n"
     ]
    },
    {
     "name": "stderr",
     "output_type": "stream",
     "text": [
      " 31%|███       | 451/1478 [05:03<11:46,  1.45it/s]"
     ]
    },
    {
     "name": "stdout",
     "output_type": "stream",
     "text": [
      "info db loss is 1.131413\n"
     ]
    },
    {
     "name": "stderr",
     "output_type": "stream",
     "text": [
      " 34%|███▍      | 501/1478 [05:37<11:04,  1.47it/s]"
     ]
    },
    {
     "name": "stdout",
     "output_type": "stream",
     "text": [
      "info db loss is 1.136623\n"
     ]
    },
    {
     "name": "stderr",
     "output_type": "stream",
     "text": [
      " 37%|███▋      | 551/1478 [06:10<10:19,  1.50it/s]"
     ]
    },
    {
     "name": "stdout",
     "output_type": "stream",
     "text": [
      "info db loss is 1.061210\n"
     ]
    },
    {
     "name": "stderr",
     "output_type": "stream",
     "text": [
      " 41%|████      | 601/1478 [06:45<10:19,  1.42it/s]"
     ]
    },
    {
     "name": "stdout",
     "output_type": "stream",
     "text": [
      "info db loss is 1.140938\n"
     ]
    },
    {
     "name": "stderr",
     "output_type": "stream",
     "text": [
      " 44%|████▍     | 651/1478 [07:19<09:14,  1.49it/s]"
     ]
    },
    {
     "name": "stdout",
     "output_type": "stream",
     "text": [
      "info db loss is 1.060835\n"
     ]
    },
    {
     "name": "stderr",
     "output_type": "stream",
     "text": [
      " 47%|████▋     | 701/1478 [07:52<08:47,  1.47it/s]"
     ]
    },
    {
     "name": "stdout",
     "output_type": "stream",
     "text": [
      "info db loss is 1.084107\n"
     ]
    },
    {
     "name": "stderr",
     "output_type": "stream",
     "text": [
      " 51%|█████     | 751/1478 [08:26<08:31,  1.42it/s]"
     ]
    },
    {
     "name": "stdout",
     "output_type": "stream",
     "text": [
      "info db loss is 1.045516\n"
     ]
    },
    {
     "name": "stderr",
     "output_type": "stream",
     "text": [
      " 54%|█████▍    | 801/1478 [09:00<07:49,  1.44it/s]"
     ]
    },
    {
     "name": "stdout",
     "output_type": "stream",
     "text": [
      "info db loss is 1.101072\n"
     ]
    },
    {
     "name": "stderr",
     "output_type": "stream",
     "text": [
      " 58%|█████▊    | 851/1478 [09:34<07:03,  1.48it/s]"
     ]
    },
    {
     "name": "stdout",
     "output_type": "stream",
     "text": [
      "info db loss is 1.056300\n"
     ]
    },
    {
     "name": "stderr",
     "output_type": "stream",
     "text": [
      " 61%|██████    | 901/1478 [10:07<06:35,  1.46it/s]"
     ]
    },
    {
     "name": "stdout",
     "output_type": "stream",
     "text": [
      "info db loss is 1.059214\n"
     ]
    },
    {
     "name": "stderr",
     "output_type": "stream",
     "text": [
      " 64%|██████▍   | 951/1478 [10:41<05:59,  1.47it/s]"
     ]
    },
    {
     "name": "stdout",
     "output_type": "stream",
     "text": [
      "info db loss is 1.091135\n"
     ]
    },
    {
     "name": "stderr",
     "output_type": "stream",
     "text": [
      " 64%|██████▍   | 953/1478 [10:42<05:57,  1.47it/s]"
     ]
    }
   ],
   "source": [
    "class args(object):\n",
    "    def __init__(self):\n",
    "        self.max_c_length = 256\n",
    "        self.max_r_length=30\n",
    "        self.batch_size=32\n",
    "        self.max_count=5\n",
    "        self.use_cuda=True\n",
    "        self.load_dict=None\n",
    "        self.learningrate=1e-3\n",
    "        self.optimizer='adam'\n",
    "        self.momentum=0\n",
    "        self.is_finetune=False\n",
    "        self.embedding_type='random'\n",
    "        self.epoch=30\n",
    "        self.gpu='0,1'\n",
    "        self.gradient_clip=0.1\n",
    "        self.embedding_size=300\n",
    "\n",
    "        self.n_heads=2\n",
    "        self.n_layers=2\n",
    "        self.ffn_size=300\n",
    "\n",
    "        self.dropout=0.1\n",
    "        self.attention_dropout=0.0\n",
    "        self.relu_dropout=0.1\n",
    "\n",
    "        self.learn_positional_embeddings=False\n",
    "        self.embeddings_scale=True\n",
    "\n",
    "        self.n_entity=64368\n",
    "        self.n_relation=214\n",
    "        self.n_concept=29308\n",
    "        self.n_con_relation=48\n",
    "        self.dim=128\n",
    "        self.n_hop=2\n",
    "        self.kge_weight=1\n",
    "        self.l2_weight=2.5e-6\n",
    "        self.n_memory=32\n",
    "        self.item_update_mode='0,1'\n",
    "        self.using_all_hops=True\n",
    "        self.num_bases=8 \n",
    "if __name__ == '__main__':\n",
    "    args=args()\n",
    "    print(vars(args))\n",
    "    if args.is_finetune==False:\n",
    "        loop=TrainLoop_fusion_rec(vars(args),is_finetune=False)\n",
    "        #loop.model.load_model()\n",
    "        loop.train()\n",
    "    else:\n",
    "        loop=TrainLoop_fusion_gen(vars(args),is_finetune=True)\n",
    "        #loop.train()\n",
    "        loop.model.load_model()\n",
    "        #met = loop.val(True)\n",
    "        loop.train()\n",
    "    met=loop.val(True)    "
   ]
  },
  {
   "cell_type": "code",
   "execution_count": null,
   "metadata": {},
   "outputs": [],
   "source": [
    "import numpy as np\n",
    "a = np.load('mask4movie20rev.npy')\n",
    "a.shape\n"
   ]
  },
  {
   "cell_type": "code",
   "execution_count": null,
   "metadata": {},
   "outputs": [],
   "source": [
    "from run_train_test import TrainLoop_fusion_gen as TrainLoop_fusion_gen\n",
    "class args(object):\n",
    "    def __init__(self):\n",
    "        self.max_c_length = 256\n",
    "        self.max_r_length=30\n",
    "        self.batch_size=32\n",
    "        self.max_count=5\n",
    "        self.use_cuda=True\n",
    "        self.load_dict=None\n",
    "        self.learningrate=1e-3\n",
    "        self.optimizer='adam'\n",
    "        self.momentum=0\n",
    "        self.is_finetune=True\n",
    "        self.embedding_type='random'\n",
    "        self.epoch=30\n",
    "        self.gpu='0,1'\n",
    "        self.gradient_clip=0.1\n",
    "        self.embedding_size=300\n",
    "\n",
    "        self.n_heads=2\n",
    "        self.n_layers=2\n",
    "        self.ffn_size=300\n",
    "\n",
    "        self.dropout=0.1\n",
    "        self.attention_dropout=0.0\n",
    "        self.relu_dropout=0.1\n",
    "\n",
    "        self.learn_positional_embeddings=False\n",
    "        self.embeddings_scale=True\n",
    "\n",
    "        self.n_entity=64368\n",
    "        self.n_relation=214\n",
    "        self.n_concept=29308\n",
    "        self.n_con_relation=48\n",
    "        self.dim=128\n",
    "        self.n_hop=2\n",
    "        self.kge_weight=1\n",
    "        self.l2_weight=2.5e-6\n",
    "        self.n_memory=32\n",
    "        self.item_update_mode='0,1'\n",
    "        self.using_all_hops=True\n",
    "        self.num_bases=8 \n",
    "        \n",
    "if __name__ == '__main__':\n",
    "    args=args()\n",
    "    print(vars(args))\n",
    "    if args.is_finetune==False:\n",
    "        loop=TrainLoop_fusion_rec(vars(args),is_finetune=False)\n",
    "        #loop.model.load_model()\n",
    "        loop.train()\n",
    "    else:\n",
    "        loop=TrainLoop_fusion_gen(vars(args),is_finetune=True)\n",
    "        #loop.train()\n",
    "        loop.model.load_model()\n",
    "        #met = loop.val(True)\n",
    "        loop.train()\n",
    "    met=loop.val(True)"
   ]
  },
  {
   "cell_type": "code",
   "execution_count": null,
   "metadata": {},
   "outputs": [],
   "source": [
    "import numpy as np\n",
    "from tqdm import tqdm\n",
    "from math import exp\n",
    "import os\n",
    "os.environ['CUDA_VISIBLE_DEVICES']='0'\n",
    "import signal\n",
    "import json\n",
    "import argparse\n",
    "import pickle as pkl\n",
    "from dataset_review20 import dataset,CRSdataset\n",
    "from model import CrossModel\n",
    "import torch.nn as nn\n",
    "from torch import optim\n",
    "import torch\n",
    "try:\n",
    "    import torch.version\n",
    "    import torch.distributed as dist\n",
    "    TORCH_AVAILABLE = True\n",
    "except ImportError:\n",
    "    TORCH_AVAILABLE = False\n",
    "from run_train_test_copy import TrainLoop_fusion_rec as TrainLoop_fusion_rec\n",
    "from run_train_test_copy import TrainLoop_fusion_gen as TrainLoop_fusion_gen\n",
    "\n",
    "\n",
    "def is_distributed():\n",
    "    \"\"\"\n",
    "    Returns True if we are in distributed mode.\n",
    "    \"\"\"\n",
    "    return TORCH_AVAILABLE and dist.is_available() and dist.is_initialized()"
   ]
  },
  {
   "cell_type": "code",
   "execution_count": null,
   "metadata": {},
   "outputs": [],
   "source": [
    "\n",
    "class args(object):\n",
    "    def __init__(self):\n",
    "        self.max_c_length = 256\n",
    "        self.max_r_length=30\n",
    "        self.batch_size=32\n",
    "        self.max_count=5\n",
    "        self.use_cuda=True\n",
    "        self.load_dict=None\n",
    "        self.learningrate=1e-3\n",
    "        self.optimizer='adam'\n",
    "        self.momentum=0\n",
    "        self.is_finetune=True\n",
    "        self.embedding_type='random'\n",
    "        self.epoch=30\n",
    "        self.gpu='0,1'\n",
    "        self.gradient_clip=0.1\n",
    "        self.embedding_size=300\n",
    "\n",
    "        self.n_heads=2\n",
    "        self.n_layers=2\n",
    "        self.ffn_size=300\n",
    "\n",
    "        self.dropout=0.1\n",
    "        self.attention_dropout=0.0\n",
    "        self.relu_dropout=0.1\n",
    "\n",
    "        self.learn_positional_embeddings=False\n",
    "        self.embeddings_scale=True\n",
    "\n",
    "        self.n_entity=64368\n",
    "        self.n_relation=214\n",
    "        self.n_concept=29308\n",
    "        self.n_con_relation=48\n",
    "        self.dim=128\n",
    "        self.n_hop=2\n",
    "        self.kge_weight=1\n",
    "        self.l2_weight=2.5e-6\n",
    "        self.n_memory=32\n",
    "        self.item_update_mode='0,1'\n",
    "        self.using_all_hops=True\n",
    "        self.num_bases=8 \n",
    "        \n",
    "if __name__ == '__main__':\n",
    "    args=args()\n",
    "    print(vars(args))\n",
    "    if args.is_finetune==False:\n",
    "        loop=TrainLoop_fusion_rec(vars(args),is_finetune=False)\n",
    "        #loop.model.load_model()\n",
    "        loop.train()\n",
    "    else:\n",
    "        loop=TrainLoop_fusion_gen(vars(args),is_finetune=True)\n",
    "        #loop.train()\n",
    "        loop.model.load_model()\n",
    "        #met = loop.val(True)\n",
    "        loop.train()\n",
    "    met=loop.val(True)"
   ]
  },
  {
   "cell_type": "code",
   "execution_count": null,
   "metadata": {},
   "outputs": [],
   "source": []
  },
  {
   "cell_type": "code",
   "execution_count": null,
   "metadata": {},
   "outputs": [],
   "source": []
  }
 ],
 "metadata": {
  "kernelspec": {
   "display_name": "Python 3",
   "language": "python",
   "name": "python3"
  },
  "language_info": {
   "codemirror_mode": {
    "name": "ipython",
    "version": 3
   },
   "file_extension": ".py",
   "mimetype": "text/x-python",
   "name": "python",
   "nbconvert_exporter": "python",
   "pygments_lexer": "ipython3",
   "version": "3.8.5"
  }
 },
 "nbformat": 4,
 "nbformat_minor": 4
}
