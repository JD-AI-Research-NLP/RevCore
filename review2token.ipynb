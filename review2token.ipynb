{
 "cells": [
  {
   "cell_type": "code",
   "execution_count": 4,
   "metadata": {},
   "outputs": [],
   "source": [
    "from random import sample \n",
    "l = [1,2,3,4, 5,6,7,8,9,10]\n",
    "c = sample(l,5)"
   ]
  },
  {
   "cell_type": "code",
   "execution_count": 2,
   "metadata": {},
   "outputs": [
    {
     "data": {
      "text/plain": [
       "[1, 5, 2, 9, 7]"
      ]
     },
     "execution_count": 2,
     "metadata": {},
     "output_type": "execute_result"
    }
   ],
   "source": [
    "c"
   ]
  },
  {
   "cell_type": "code",
   "execution_count": 3,
   "metadata": {},
   "outputs": [],
   "source": [
    "b = sample(l,5)"
   ]
  },
  {
   "cell_type": "code",
   "execution_count": 4,
   "metadata": {},
   "outputs": [
    {
     "data": {
      "text/plain": [
       "[1, 7, 8, 10, 9]"
      ]
     },
     "execution_count": 4,
     "metadata": {},
     "output_type": "execute_result"
    }
   ],
   "source": []
  },
  {
   "cell_type": "code",
   "execution_count": 2,
   "metadata": {},
   "outputs": [],
   "source": [
    "import pickle as pkl\n",
    "with open('movieid2review_dict.pkl','rb') as f:\n",
    "    dict_movieid2review = pkl.load(f)"
   ]
  },
  {
   "cell_type": "code",
   "execution_count": 26,
   "metadata": {},
   "outputs": [],
   "source": [
    "######mateched review, random words#####\n",
    "from nltk import word_tokenize\n",
    "count = 0\n",
    "dict_movie2tokenreview = {}\n",
    "for i in dict_movieid2review:\n",
    "    token_review = word_tokenize(' '.join(dict_movieid2review[i]))\n",
    "    #print(dict_movieid2review[i])\n",
    "    if len(token_review)>40:\n",
    "        dict_movie2tokenreview[i] = sample(token_review,40)\n",
    "    else:\n",
    "        dict_movie2tokenreview[i] = token_review +(40-len(token_review))*[' ']\n",
    "        "
   ]
  },
  {
   "cell_type": "code",
   "execution_count": 33,
   "metadata": {},
   "outputs": [],
   "source": [
    "for i in dict_movie2tokenreview:\n",
    "    c = dict_movie2tokenreview[i]\n",
    "    if len(c)!=20:\n",
    "        print(i)"
   ]
  },
  {
   "cell_type": "code",
   "execution_count": 30,
   "metadata": {},
   "outputs": [],
   "source": [
    "\n",
    "with open('dict_movie2tokenreview.pkl', 'wb') as f:\n",
    "    pkl.dump(dict_movie2tokenreview, f)"
   ]
  },
  {
   "cell_type": "code",
   "execution_count": 31,
   "metadata": {},
   "outputs": [],
   "source": [
    "with open('dict_movie2tokenreview.pkl','rb') as f:\n",
    "    dict_2 = pkl.load(f)"
   ]
  },
  {
   "cell_type": "code",
   "execution_count": 32,
   "metadata": {},
   "outputs": [
    {
     "name": "stdout",
     "output_type": "stream",
     "text": [
      "[\"n't\", 'would', 'any', 'Jennifer', 'tell', 'way', 'to', 'comedies.Speaking', 'over', 'in', 'with', 'this', 'fans-', 'for', '``', 'It', 'Seed', 'Add', 'than', 'It']\n"
     ]
    }
   ],
   "source": [
    "for i in dict_2:\n",
    "    print(dict_2[i])\n",
    "    break  "
   ]
  },
  {
   "cell_type": "code",
   "execution_count": 34,
   "metadata": {},
   "outputs": [
    {
     "name": "stdout",
     "output_type": "stream",
     "text": [
      "Traceback (most recent call last):\n",
      "  File \"data_prepare2_review_random.py\", line 1, in <module>\n",
      "    from dataset_review20_random import dataset\n",
      "  File \"/home/13521916307/notespace/KGSF_rev/dataset_review20_random.py\", line 2, in <module>\n",
      "    from tqdm import tqdm\n",
      "ImportError: No module named tqdm\n"
     ]
    }
   ],
   "source": [
    "!python data_prepare2_review_random.py"
   ]
  },
  {
   "cell_type": "code",
   "execution_count": 37,
   "metadata": {},
   "outputs": [
    {
     "data": {
      "text/plain": [
       "23925"
      ]
     },
     "execution_count": 37,
     "metadata": {},
     "output_type": "execute_result"
    }
   ],
   "source": [
    "import json\n",
    "a = json.load(open('word2index_redial.json',encoding='utf-8'))\n",
    "len(a)"
   ]
  },
  {
   "cell_type": "code",
   "execution_count": 38,
   "metadata": {},
   "outputs": [
    {
     "data": {
      "text/plain": [
       "26717"
      ]
     },
     "execution_count": 38,
     "metadata": {},
     "output_type": "execute_result"
    }
   ],
   "source": [
    "import json\n",
    "a = json.load(open('word2index_redial2.json',encoding='utf-8'))\n",
    "len(a)"
   ]
  },
  {
   "cell_type": "code",
   "execution_count": 3,
   "metadata": {},
   "outputs": [],
   "source": [
    "import pickle as pkl\n",
    "with open('movieid2review_dict.pkl','rb') as f:\n",
    "    dict_movieid2review = pkl.load(f)"
   ]
  },
  {
   "cell_type": "code",
   "execution_count": 4,
   "metadata": {},
   "outputs": [],
   "source": [
    "#####matched review,ordered words#######\n",
    "from nltk import word_tokenize\n",
    "count = 0\n",
    "dict_movie2tokenreview = {}\n",
    "for i in dict_movieid2review:\n",
    "    token_review = word_tokenize(' '.join(dict_movieid2review[i]))\n",
    "    #print(dict_movieid2review[i])\n",
    "    if len(token_review)>40:\n",
    "        dict_movie2tokenreview[i] = token_review[:40]\n",
    "    else:\n",
    "        dict_movie2tokenreview[i] = token_review +(40-len(token_review))*[' ']\n",
    "with open('movie2tokenreview_helpful.pkl', 'wb') as f:\n",
    "    pkl.dump(dict_movie2tokenreview, f)        "
   ]
  },
  {
   "cell_type": "code",
   "execution_count": null,
   "metadata": {},
   "outputs": [],
   "source": []
  }
 ],
 "metadata": {
  "kernelspec": {
   "display_name": "geom140",
   "language": "python",
   "name": "geom140"
  },
  "language_info": {
   "codemirror_mode": {
    "name": "ipython",
    "version": 3
   },
   "file_extension": ".py",
   "mimetype": "text/x-python",
   "name": "python",
   "nbconvert_exporter": "python",
   "pygments_lexer": "ipython3",
   "version": "3.8.3"
  }
 },
 "nbformat": 4,
 "nbformat_minor": 4
}
